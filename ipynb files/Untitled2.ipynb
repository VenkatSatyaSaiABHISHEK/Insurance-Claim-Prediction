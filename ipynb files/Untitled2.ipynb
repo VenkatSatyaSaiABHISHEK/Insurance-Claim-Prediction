{
 "cells": [
  {
   "cell_type": "code",
   "execution_count": 5,
   "id": "bdb290d5-ab9d-4cd7-9356-348e0cdf650a",
   "metadata": {},
   "outputs": [
    {
     "name": "stdout",
     "output_type": "stream",
     "text": [
      "   Age  Gender   BMI Smoke Health Problem  No. of Hospital Visits  \\\n",
      "0   69  Female  26.3    No   Hypertension                      12   \n",
      "1   32  Female  34.9   Yes       Diabetes                       5   \n",
      "2   89    Male  29.8    No   Hypertension                       9   \n",
      "3   78    Male  17.4    No  Heart Disease                       5   \n",
      "4   38    Male  28.7    No   Hypertension                       2   \n",
      "\n",
      "   Claim Amount Requested (₹) Approval Status  \n",
      "0                      178681        Rejected  \n",
      "1                      337712        Rejected  \n",
      "2                      147053        Rejected  \n",
      "3                       42978        Approved  \n",
      "4                      301237        Rejected  \n",
      "Columns in dataset: ['Age', 'Gender', 'BMI', 'Smoke', 'Health Problem', 'No. of Hospital Visits', 'Claim Amount Requested (₹)', 'Approval Status']\n",
      "✅ Model trained and saved successfully!\n"
     ]
    }
   ],
   "source": [
    "import pandas as pd\n",
    "import numpy as np\n",
    "import pickle\n",
    "from sklearn.model_selection import train_test_split\n",
    "from sklearn.preprocessing import StandardScaler, OneHotEncoder\n",
    "from sklearn.compose import ColumnTransformer\n",
    "from sklearn.pipeline import Pipeline\n",
    "from sklearn.ensemble import RandomForestClassifier\n",
    "\n",
    "# Load dataset\n",
    "df = pd.read_csv(\"health_insurance_dataset_updated.csv\")\n",
    "\n",
    "# Display first few rows to check data\n",
    "print(df.head())\n",
    "\n",
    "# Check for missing values\n",
    "df.dropna(inplace=True)\n",
    "\n",
    "# Rename columns to ensure consistency\n",
    "df.columns = [col.strip() for col in df.columns]  # Trim spaces\n",
    "\n",
    "# Define features and target variable\n",
    "numerical_features = [\"Age\", \"BMI\", \"No. of Hospital Visits\", \"Claim Amount Requested (₹)\"]\n",
    "categorical_features = [\"Gender\", \"Smoke\", \"Health Problem\"]\n",
    "\n",
    "target_column = \"Approval Status\"\n",
    "\n",
    "# Check if required columns exist\n",
    "print(\"Columns in dataset:\", df.columns.tolist())\n",
    "\n",
    "if target_column not in df.columns:\n",
    "    raise KeyError(f\"Target column '{target_column}' not found in dataset. Please check column names: {df.columns.tolist()}\")\n",
    "\n",
    "# Ensure feature columns exist\n",
    "missing_features = [col for col in numerical_features + categorical_features if col not in df.columns]\n",
    "if missing_features:\n",
    "    raise KeyError(f\"Missing feature columns: {missing_features}. Please check dataset.\")\n",
    "\n",
    "# Assign features and target\n",
    "y = df[target_column]\n",
    "X = df[numerical_features + categorical_features]\n",
    "\n",
    "# Preprocessing pipeline\n",
    "preprocessor = ColumnTransformer([\n",
    "    (\"num\", StandardScaler(), numerical_features),\n",
    "    (\"cat\", OneHotEncoder(handle_unknown='ignore'), categorical_features)\n",
    "])\n",
    "\n",
    "# Train-test split\n",
    "X_train, X_test, y_train, y_test = train_test_split(X, y, test_size=0.2, random_state=42)\n",
    "\n",
    "# Create RandomForestClassifier model pipeline\n",
    "model = Pipeline([\n",
    "    (\"preprocessor\", preprocessor),\n",
    "    (\"classifier\", RandomForestClassifier(n_estimators=100, random_state=42))\n",
    "])\n",
    "\n",
    "# Train the model\n",
    "model.fit(X_train, y_train)\n",
    "\n",
    "# Save model\n",
    "with open(\"hel_claim_model.pkl\", \"wb\") as file:\n",
    "    pickle.dump(model, file)\n",
    "\n",
    "print(\"✅ Model trained and saved successfully!\")"
   ]
  },
  {
   "cell_type": "code",
   "execution_count": null,
   "id": "bfab6a62-3a64-4d09-a55e-879669c41234",
   "metadata": {},
   "outputs": [],
   "source": []
  }
 ],
 "metadata": {
  "kernelspec": {
   "display_name": "Python 3 (ipykernel)",
   "language": "python",
   "name": "python3"
  },
  "language_info": {
   "codemirror_mode": {
    "name": "ipython",
    "version": 3
   },
   "file_extension": ".py",
   "mimetype": "text/x-python",
   "name": "python",
   "nbconvert_exporter": "python",
   "pygments_lexer": "ipython3",
   "version": "3.12.7"
  }
 },
 "nbformat": 4,
 "nbformat_minor": 5
}
